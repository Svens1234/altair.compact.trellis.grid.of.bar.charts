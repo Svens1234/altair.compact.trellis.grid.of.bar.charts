{
 "cells": [
  {
   "cell_type": "code",
   "execution_count": 1,
   "id": "e0490da1",
   "metadata": {},
   "outputs": [],
   "source": [
    "import altair as alt\n",
    "import pandas as pd"
   ]
  },
  {
   "cell_type": "code",
   "execution_count": 2,
   "id": "322b8ff3",
   "metadata": {},
   "outputs": [
    {
     "data": {
      "text/html": [
       "\n",
       "<div id=\"altair-viz-000cd005118f4000b5ee9acfb946a820\"></div>\n",
       "<script type=\"text/javascript\">\n",
       "  var VEGA_DEBUG = (typeof VEGA_DEBUG == \"undefined\") ? {} : VEGA_DEBUG;\n",
       "  (function(spec, embedOpt){\n",
       "    let outputDiv = document.currentScript.previousElementSibling;\n",
       "    if (outputDiv.id !== \"altair-viz-000cd005118f4000b5ee9acfb946a820\") {\n",
       "      outputDiv = document.getElementById(\"altair-viz-000cd005118f4000b5ee9acfb946a820\");\n",
       "    }\n",
       "    const paths = {\n",
       "      \"vega\": \"https://cdn.jsdelivr.net/npm//vega@5?noext\",\n",
       "      \"vega-lib\": \"https://cdn.jsdelivr.net/npm//vega-lib?noext\",\n",
       "      \"vega-lite\": \"https://cdn.jsdelivr.net/npm//vega-lite@4.17.0?noext\",\n",
       "      \"vega-embed\": \"https://cdn.jsdelivr.net/npm//vega-embed@6?noext\",\n",
       "    };\n",
       "\n",
       "    function maybeLoadScript(lib, version) {\n",
       "      var key = `${lib.replace(\"-\", \"\")}_version`;\n",
       "      return (VEGA_DEBUG[key] == version) ?\n",
       "        Promise.resolve(paths[lib]) :\n",
       "        new Promise(function(resolve, reject) {\n",
       "          var s = document.createElement('script');\n",
       "          document.getElementsByTagName(\"head\")[0].appendChild(s);\n",
       "          s.async = true;\n",
       "          s.onload = () => {\n",
       "            VEGA_DEBUG[key] = version;\n",
       "            return resolve(paths[lib]);\n",
       "          };\n",
       "          s.onerror = () => reject(`Error loading script: ${paths[lib]}`);\n",
       "          s.src = paths[lib];\n",
       "        });\n",
       "    }\n",
       "\n",
       "    function showError(err) {\n",
       "      outputDiv.innerHTML = `<div class=\"error\" style=\"color:red;\">${err}</div>`;\n",
       "      throw err;\n",
       "    }\n",
       "\n",
       "    function displayChart(vegaEmbed) {\n",
       "      vegaEmbed(outputDiv, spec, embedOpt)\n",
       "        .catch(err => showError(`Javascript Error: ${err.message}<br>This usually means there's a typo in your chart specification. See the javascript console for the full traceback.`));\n",
       "    }\n",
       "\n",
       "    if(typeof define === \"function\" && define.amd) {\n",
       "      requirejs.config({paths});\n",
       "      require([\"vega-embed\"], displayChart, err => showError(`Error loading script: ${err.message}`));\n",
       "    } else {\n",
       "      maybeLoadScript(\"vega\", \"5\")\n",
       "        .then(() => maybeLoadScript(\"vega-lite\", \"4.17.0\"))\n",
       "        .then(() => maybeLoadScript(\"vega-embed\", \"6\"))\n",
       "        .catch(showError)\n",
       "        .then(() => displayChart(vegaEmbed));\n",
       "    }\n",
       "  })({\"config\": {\"view\": {\"continuousWidth\": 400, \"continuousHeight\": 300}}, \"data\": {\"name\": \"data-e90feaf959fd425e1afec00a92fd04a7\"}, \"mark\": \"bar\", \"encoding\": {\"color\": {\"field\": \"c\", \"legend\": {\"orient\": \"bottom\", \"titleOrient\": \"left\"}, \"title\": \"settings\", \"type\": \"nominal\"}, \"column\": {\"field\": \"b\", \"title\": \"Factor B\", \"type\": \"nominal\"}, \"row\": {\"field\": \"a\", \"header\": {\"labelAngle\": 0}, \"title\": \"Factor A\", \"type\": \"nominal\"}, \"x\": {\"axis\": {\"format\": \"%\"}, \"field\": \"p\", \"title\": null, \"type\": \"quantitative\"}, \"y\": {\"axis\": null, \"field\": \"c\", \"type\": \"nominal\"}}, \"height\": {\"step\": 8}, \"width\": 60, \"$schema\": \"https://vega.github.io/schema/vega-lite/v4.17.0.json\", \"datasets\": {\"data-e90feaf959fd425e1afec00a92fd04a7\": [{\"a\": \"a1\", \"b\": \"b1\", \"c\": \"x\", \"p\": \"0.14\"}, {\"a\": \"a1\", \"b\": \"b1\", \"c\": \"y\", \"p\": \"0.60\"}, {\"a\": \"a1\", \"b\": \"b1\", \"c\": \"z\", \"p\": \"0.03\"}, {\"a\": \"a1\", \"b\": \"b2\", \"c\": \"x\", \"p\": \"0.80\"}, {\"a\": \"a1\", \"b\": \"b2\", \"c\": \"y\", \"p\": \"0.38\"}, {\"a\": \"a1\", \"b\": \"b2\", \"c\": \"z\", \"p\": \"0.55\"}, {\"a\": \"a1\", \"b\": \"b3\", \"c\": \"x\", \"p\": \"0.11\"}, {\"a\": \"a1\", \"b\": \"b3\", \"c\": \"y\", \"p\": \"0.58\"}, {\"a\": \"a1\", \"b\": \"b3\", \"c\": \"z\", \"p\": \"0.79\"}, {\"a\": \"a2\", \"b\": \"b1\", \"c\": \"x\", \"p\": \"0.83\"}, {\"a\": \"a2\", \"b\": \"b1\", \"c\": \"y\", \"p\": \"0.87\"}, {\"a\": \"a2\", \"b\": \"b1\", \"c\": \"z\", \"p\": \"0.67\"}, {\"a\": \"a2\", \"b\": \"b2\", \"c\": \"x\", \"p\": \"0.97\"}, {\"a\": \"a2\", \"b\": \"b2\", \"c\": \"y\", \"p\": \"0.84\"}, {\"a\": \"a2\", \"b\": \"b2\", \"c\": \"z\", \"p\": \"0.90\"}, {\"a\": \"a2\", \"b\": \"b3\", \"c\": \"x\", \"p\": \"0.74\"}, {\"a\": \"a2\", \"b\": \"b3\", \"c\": \"y\", \"p\": \"0.64\"}, {\"a\": \"a2\", \"b\": \"b3\", \"c\": \"z\", \"p\": \"0.19\"}, {\"a\": \"a3\", \"b\": \"b1\", \"c\": \"x\", \"p\": \"0.57\"}, {\"a\": \"a3\", \"b\": \"b1\", \"c\": \"y\", \"p\": \"0.35\"}, {\"a\": \"a3\", \"b\": \"b1\", \"c\": \"z\", \"p\": \"0.49\"}, {\"a\": \"a3\", \"b\": \"b2\", \"c\": \"x\", \"p\": \"0.91\"}, {\"a\": \"a3\", \"b\": \"b2\", \"c\": \"y\", \"p\": \"0.38\"}, {\"a\": \"a3\", \"b\": \"b2\", \"c\": \"z\", \"p\": \"0.91\"}, {\"a\": \"a3\", \"b\": \"b3\", \"c\": \"x\", \"p\": \"0.99\"}, {\"a\": \"a3\", \"b\": \"b3\", \"c\": \"y\", \"p\": \"0.80\"}, {\"a\": \"a3\", \"b\": \"b3\", \"c\": \"z\", \"p\": \"0.37\"}]}}, {\"mode\": \"vega-lite\"});\n",
       "</script>"
      ],
      "text/plain": [
       "alt.Chart(...)"
      ]
     },
     "execution_count": 2,
     "metadata": {},
     "output_type": "execute_result"
    }
   ],
   "source": [
    "source = pd.DataFrame(\n",
    "    [\n",
    "        {\"a\": \"a1\", \"b\": \"b1\", \"c\": \"x\", \"p\": \"0.14\"},\n",
    "        {\"a\": \"a1\", \"b\": \"b1\", \"c\": \"y\", \"p\": \"0.60\"},\n",
    "        {\"a\": \"a1\", \"b\": \"b1\", \"c\": \"z\", \"p\": \"0.03\"},\n",
    "        {\"a\": \"a1\", \"b\": \"b2\", \"c\": \"x\", \"p\": \"0.80\"},\n",
    "        {\"a\": \"a1\", \"b\": \"b2\", \"c\": \"y\", \"p\": \"0.38\"},\n",
    "        {\"a\": \"a1\", \"b\": \"b2\", \"c\": \"z\", \"p\": \"0.55\"},\n",
    "        {\"a\": \"a1\", \"b\": \"b3\", \"c\": \"x\", \"p\": \"0.11\"},\n",
    "        {\"a\": \"a1\", \"b\": \"b3\", \"c\": \"y\", \"p\": \"0.58\"},\n",
    "        {\"a\": \"a1\", \"b\": \"b3\", \"c\": \"z\", \"p\": \"0.79\"},\n",
    "        {\"a\": \"a2\", \"b\": \"b1\", \"c\": \"x\", \"p\": \"0.83\"},\n",
    "        {\"a\": \"a2\", \"b\": \"b1\", \"c\": \"y\", \"p\": \"0.87\"},\n",
    "        {\"a\": \"a2\", \"b\": \"b1\", \"c\": \"z\", \"p\": \"0.67\"},\n",
    "        {\"a\": \"a2\", \"b\": \"b2\", \"c\": \"x\", \"p\": \"0.97\"},\n",
    "        {\"a\": \"a2\", \"b\": \"b2\", \"c\": \"y\", \"p\": \"0.84\"},\n",
    "        {\"a\": \"a2\", \"b\": \"b2\", \"c\": \"z\", \"p\": \"0.90\"},\n",
    "        {\"a\": \"a2\", \"b\": \"b3\", \"c\": \"x\", \"p\": \"0.74\"},\n",
    "        {\"a\": \"a2\", \"b\": \"b3\", \"c\": \"y\", \"p\": \"0.64\"},\n",
    "        {\"a\": \"a2\", \"b\": \"b3\", \"c\": \"z\", \"p\": \"0.19\"},\n",
    "        {\"a\": \"a3\", \"b\": \"b1\", \"c\": \"x\", \"p\": \"0.57\"},\n",
    "        {\"a\": \"a3\", \"b\": \"b1\", \"c\": \"y\", \"p\": \"0.35\"},\n",
    "        {\"a\": \"a3\", \"b\": \"b1\", \"c\": \"z\", \"p\": \"0.49\"},\n",
    "        {\"a\": \"a3\", \"b\": \"b2\", \"c\": \"x\", \"p\": \"0.91\"},\n",
    "        {\"a\": \"a3\", \"b\": \"b2\", \"c\": \"y\", \"p\": \"0.38\"},\n",
    "        {\"a\": \"a3\", \"b\": \"b2\", \"c\": \"z\", \"p\": \"0.91\"},\n",
    "        {\"a\": \"a3\", \"b\": \"b3\", \"c\": \"x\", \"p\": \"0.99\"},\n",
    "        {\"a\": \"a3\", \"b\": \"b3\", \"c\": \"y\", \"p\": \"0.80\"},\n",
    "        {\"a\": \"a3\", \"b\": \"b3\", \"c\": \"z\", \"p\": \"0.37\"},\n",
    "    ]\n",
    ")\n",
    "\n",
    "alt.Chart(source, width=60, height=alt.Step(8)).mark_bar().encode(\n",
    "    y=alt.Y(\"c:N\", axis=None),\n",
    "    x=alt.X(\"p:Q\", title=None, axis=alt.Axis(format=\"%\")),\n",
    "    color=alt.Color(\n",
    "        \"c:N\", title=\"settings\", legend=alt.Legend(orient=\"bottom\", titleOrient=\"left\")\n",
    "    ),\n",
    "    row=alt.Row(\"a:N\", title=\"Factor A\", header=alt.Header(labelAngle=0)),\n",
    "    column=alt.Column(\"b:N\", title=\"Factor B\"),\n",
    ")"
   ]
  },
  {
   "cell_type": "code",
   "execution_count": null,
   "id": "de978cc4",
   "metadata": {},
   "outputs": [],
   "source": []
  }
 ],
 "metadata": {
  "kernelspec": {
   "display_name": "Python 3 (ipykernel)",
   "language": "python",
   "name": "python3"
  },
  "language_info": {
   "codemirror_mode": {
    "name": "ipython",
    "version": 3
   },
   "file_extension": ".py",
   "mimetype": "text/x-python",
   "name": "python",
   "nbconvert_exporter": "python",
   "pygments_lexer": "ipython3",
   "version": "3.10.5"
  }
 },
 "nbformat": 4,
 "nbformat_minor": 5
}
